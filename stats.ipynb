{
 "cells": [
  {
   "cell_type": "code",
   "execution_count": 2,
   "metadata": {
    "collapsed": true,
    "pycharm": {
     "name": "#%%\n"
    }
   },
   "outputs": [],
   "source": [
    "import csv\n",
    "import numpy as np"
   ]
  },
  {
   "cell_type": "code",
   "execution_count": 62,
   "outputs": [],
   "source": [
    "ann1 = []\n",
    "ann2 = []\n",
    "ann3 = []\n"
   ],
   "metadata": {
    "collapsed": false,
    "pycharm": {
     "name": "#%%\n"
    }
   }
  },
  {
   "cell_type": "code",
   "execution_count": 63,
   "outputs": [],
   "source": [
    "with open('all_annotations.csv', 'r') as f:\n",
    "    reader = csv.reader(f)\n",
    "    data = list(reader)\n",
    "    for row in data:\n",
    "        ann1.append(row[6][0])\n",
    "        ann2.append(row[6][1])\n",
    "        ann3.append(row[6][2])\n"
   ],
   "metadata": {
    "collapsed": false,
    "pycharm": {
     "name": "#%%\n"
    }
   }
  },
  {
   "cell_type": "code",
   "execution_count": 64,
   "outputs": [],
   "source": [
    "# calculate cohen's kappa\n",
    "from sklearn import metrics\n",
    "import numpy as np\n",
    "\n",
    "kappa12 = metrics.cohen_kappa_score(ann1, ann2)\n",
    "kappa13 = metrics.cohen_kappa_score(ann1, ann3)\n",
    "kappa23 = metrics.cohen_kappa_score(ann2, ann3)\n",
    "\n"
   ],
   "metadata": {
    "collapsed": false,
    "pycharm": {
     "name": "#%%\n"
    }
   }
  },
  {
   "cell_type": "code",
   "execution_count": 65,
   "outputs": [],
   "source": [
    "# copy lists to clipboard seperate with a \\n\n",
    "import pyperclip\n",
    "\n",
    "cann1 = '\\n'.join(ann1)\n",
    "cann2 = '\\n'.join(ann2)\n",
    "cann3 = '\\n'.join(ann3)\n",
    "\n"
   ],
   "metadata": {
    "collapsed": false,
    "pycharm": {
     "name": "#%%\n"
    }
   }
  },
  {
   "cell_type": "code",
   "execution_count": 69,
   "outputs": [],
   "source": [
    "pyperclip.copy(cann3)"
   ],
   "metadata": {
    "collapsed": false,
    "pycharm": {
     "name": "#%%\n"
    }
   }
  },
  {
   "cell_type": "code",
   "execution_count": 59,
   "outputs": [],
   "source": [
    "# fleiss kappa = 0.08 calculated using datalab.net"
   ],
   "metadata": {
    "collapsed": false,
    "pycharm": {
     "name": "#%%\n"
    }
   }
  },
  {
   "cell_type": "markdown",
   "source": [
    "# lenght hate vs no hate tweets\n"
   ],
   "metadata": {
    "collapsed": false,
    "pycharm": {
     "name": "#%% md\n"
    }
   }
  },
  {
   "cell_type": "code",
   "execution_count": 3,
   "outputs": [],
   "source": [
    "with open('data/all_gold_hate.csv', 'r') as f:\n",
    "    reader = csv.reader(f)\n",
    "    data = list(reader)\n",
    "    hate_tweets = []\n",
    "    no_hate_tweets = []\n",
    "    for row in data:\n",
    "        if row[2] == 'y':\n",
    "            hate_tweets.append(row[1])\n",
    "        else:\n",
    "            no_hate_tweets.append(row[1])\n"
   ],
   "metadata": {
    "collapsed": false,
    "pycharm": {
     "name": "#%%\n"
    }
   }
  },
  {
   "cell_type": "code",
   "execution_count": 4,
   "outputs": [],
   "source": [
    "# find avarage word lenght of hate tweets vs no hate tweets\n",
    "\n",
    "# count all words in hate tweets\n",
    "hate_count = 0\n",
    "no_hate_count = 0\n",
    "for tweet in hate_tweets:\n",
    "    for word in tweet.split():\n",
    "        hate_count += 1\n",
    "for tweet in no_hate_tweets:\n",
    "    for word in tweet.split():\n",
    "        no_hate_count += 1\n",
    "\n"
   ],
   "metadata": {
    "collapsed": false,
    "pycharm": {
     "name": "#%%\n"
    }
   }
  },
  {
   "cell_type": "code",
   "execution_count": 87,
   "outputs": [
    {
     "name": "stdout",
     "output_type": "stream",
     "text": [
      "24.877887788778878\n",
      "23.405065985525756\n"
     ]
    }
   ],
   "source": [
    "# find avarage word lenght of hate tweets vs no hate tweets\n",
    "avarage_hate_lenght = hate_count / len(hate_tweets)\n",
    "avarage_no_hate_lenght = no_hate_count / len(no_hate_tweets)\n",
    "\n",
    "print(avarage_hate_lenght)\n",
    "print(avarage_no_hate_lenght)"
   ],
   "metadata": {
    "collapsed": false,
    "pycharm": {
     "name": "#%%\n"
    }
   }
  },
  {
   "cell_type": "code",
   "execution_count": 5,
   "outputs": [],
   "source": [
    "# create list of no hate and hate tweets word lenghts\n",
    "hate_lenghts = []\n",
    "no_hate_lenghts = []\n",
    "for tweet in hate_tweets:\n",
    "    hate_lenghts.append(len(tweet.split()))\n",
    "for tweet in no_hate_tweets:\n",
    "    no_hate_lenghts.append(len(tweet.split()))\n"
   ],
   "metadata": {
    "collapsed": false,
    "pycharm": {
     "name": "#%%\n"
    }
   }
  },
  {
   "cell_type": "code",
   "execution_count": 24,
   "outputs": [],
   "source": [],
   "metadata": {
    "collapsed": false,
    "pycharm": {
     "name": "#%%\n"
    }
   }
  },
  {
   "cell_type": "code",
   "execution_count": 29,
   "outputs": [
    {
     "name": "stdout",
     "output_type": "stream",
     "text": [
      "MannwhitneyuResult(statistic=761598.0, pvalue=0.04064484322733329)\n"
     ]
    }
   ],
   "source": [
    "# check for significant difference in tweet lenghts between hate and no hate\n",
    "from scipy import stats\n",
    "\n",
    "mann_whitney_result = stats.mannwhitneyu(hate_lenghts, no_hate_lenghts)\n",
    "\n",
    "print(mann_whitney_result)\n"
   ],
   "metadata": {
    "collapsed": false,
    "pycharm": {
     "name": "#%%\n"
    }
   }
  }
 ],
 "metadata": {
  "kernelspec": {
   "display_name": "Python 3",
   "language": "python",
   "name": "python3"
  },
  "language_info": {
   "codemirror_mode": {
    "name": "ipython",
    "version": 2
   },
   "file_extension": ".py",
   "mimetype": "text/x-python",
   "name": "python",
   "nbconvert_exporter": "python",
   "pygments_lexer": "ipython2",
   "version": "2.7.6"
  }
 },
 "nbformat": 4,
 "nbformat_minor": 0
}